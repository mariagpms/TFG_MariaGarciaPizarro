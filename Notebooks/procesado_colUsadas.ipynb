{
 "cells": [
  {
   "cell_type": "markdown",
   "id": "2a38a826-e475-406f-888c-d7775e25b7fc",
   "metadata": {},
   "source": [
    "## Datos IBGM"
   ]
  },
  {
   "cell_type": "code",
   "execution_count": 1,
   "id": "775e3930-c654-485a-9675-1d3e653f75e4",
   "metadata": {},
   "outputs": [],
   "source": [
    "import pandas as pd\n",
    "import numpy as np\n",
    "from sklearn.preprocessing import MinMaxScaler, normalize\n",
    "from tqdm import tqdm"
   ]
  },
  {
   "cell_type": "code",
   "execution_count": 2,
   "id": "9df92027-3771-421f-9261-7c72c70d2d39",
   "metadata": {},
   "outputs": [],
   "source": [
    "datos=pd.read_csv('datos/33_files_concat_clustersEspecificos.csv')"
   ]
  },
  {
   "cell_type": "code",
   "execution_count": 3,
   "id": "7bff1ae9-a13e-4143-a7f7-d90943140f54",
   "metadata": {},
   "outputs": [
    {
     "data": {
      "text/plain": [
       "((1562910, 49),\n",
       " Index(['Time', 'SSC-H', 'SSC-A', 'FSC-H', 'FSC-A', 'SSC-B-H', 'SSC-B-A',\n",
       "        'BUV395-A___CD45RA', 'BUV737-A___CD56', 'BUV805-A___CD8',\n",
       "        'BV421-A___CCR7', 'Super Bright 436-A___CD123', 'eFluor 450-A___CD11c',\n",
       "        'BV510-A___CD3', 'Pacific Orange-A___CD20', 'BV570-A___IgM',\n",
       "        'BV650-A___CD28', 'BV785-A___CD103', 'FITC-A___IgA', 'PerCP-A___CD45',\n",
       "        'PerCP-eFluor 710-A___TCRgd', 'cFluor YG584-A___CD4',\n",
       "        'PE-Cy7-A___CXCR3', 'APC-Fire 810-A___CD38', 'PE-Fire 810-A___HLA-DR',\n",
       "        'BV605-A___IgG', 'APC-R700-A___CD127', 'APC-H7-A___CD27',\n",
       "        'PE-Alexa Fluor 610-A___CD24', 'PE-Alexa Fluor 700-A___CD25',\n",
       "        'BB515-A___CD141', 'BV480-A___IgD', 'BV750-A___CXCR5',\n",
       "        'PE-Cy5-A___CD95(Fas)', 'LIVE DEAD Blue-A___Viability',\n",
       "        'PerCP-Cy5.5-A___CD2', 'Alexa Fluor 647-A___CD1c',\n",
       "        'Spark Blue 550-A___CD14', 'BUV661-A___VISTA', 'Spark NIR 685-A___CD19',\n",
       "        'BUV496-A___CD16', 'BUV563-A___CCR5', 'BUV615-A___NKG2d',\n",
       "        'BV711-A___CCR6', 'PE-A___NKG2c', 'PE-Dazzle594-A___NKp30',\n",
       "        'APC-A___NKG2a', 'OmiqFilter', 'OmiqFileIndex'],\n",
       "       dtype='object'))"
      ]
     },
     "execution_count": 3,
     "metadata": {},
     "output_type": "execute_result"
    }
   ],
   "source": [
    "datos.shape, datos.columns"
   ]
  },
  {
   "cell_type": "code",
   "execution_count": 19,
   "id": "de3f273c-1beb-410c-878a-4fa12e001c3b",
   "metadata": {},
   "outputs": [],
   "source": [
    "datos.drop(\"OmiqFileIndex\", axis=1, inplace=True)"
   ]
  },
  {
   "cell_type": "markdown",
   "id": "074eff36-bc8a-472f-89ec-a5f14adfae12",
   "metadata": {},
   "source": [
    "Nos quedamos con las columnas que usan los investigadores para diferenciar las pobalciones celulares:\n",
    "- 'BUV395-A___CD45RA'\n",
    "- 'BUV737-A___CD56'\n",
    "- 'BUV805-A___CD8'\n",
    "- 'BV421-A___CCR7'\n",
    "- 'Super Bright 436-A___CD123'\n",
    "- 'eFluor 450-A___CD11c'\n",
    "- 'BV510-A___CD3'\n",
    "- 'Pacific Orange-A___CD20'\n",
    "- 'BV570-A___IgM'\n",
    "- 'BV650-A___CD28'\n",
    "- 'BV785-A___CD103'\n",
    "- 'FITC-A___IgA'\n",
    "- 'PerCP-eFluor 710-A___TCRgd'\n",
    "- 'cFluor YG584-A___CD4'\n",
    "- 'PE-Cy7-A___CXCR3'\n",
    "- 'APC-Fire 810-A___CD38'\n",
    "- 'PE-Fire 810-A___HLA-DR'\n",
    "- 'BV605-A___IgG'\n",
    "- 'APC-R700-A___CD127'\n",
    "- 'APC-H7-A___CD27'\n",
    "- 'PE-Alexa Fluor 610-A___CD24'\n",
    "- 'PE-Alexa Fluor 700-A___CD25'\n",
    "- 'BB515-A___CD141'\n",
    "- 'BV480-A___IgD'\n",
    "- 'BV750-A___CXCR5'\n",
    "- 'PE-Cy5-A___CD95(Fas)'\n",
    "- 'PerCP-Cy5.5-A___CD2'\n",
    "- 'Alexa Fluor 647-A___CD1c'\n",
    "- 'Spark Blue 550-A___CD14'\n",
    "- 'BUV661-A___VISTA'\n",
    "- 'Spark NIR 685-A___CD19'\n",
    "- 'BUV496-A___CD16'\n",
    "- 'BUV563-A___CCR5'\n",
    "- 'BUV615-A___NKG2d'\n",
    "- 'BV711-A___CCR6'\n",
    "- 'PE-A___NKG2c'\n",
    "- 'PE-Dazzle594-A___NKp30'\n",
    "- 'APC-A___NKG2a'"
   ]
  },
  {
   "cell_type": "code",
   "execution_count": 13,
   "id": "825b987e-ece4-4654-9429-b2ba91e3941a",
   "metadata": {},
   "outputs": [
    {
     "data": {
      "text/plain": [
       "(1562910, 38)"
      ]
     },
     "execution_count": 13,
     "metadata": {},
     "output_type": "execute_result"
    }
   ],
   "source": [
    "#Escalado por columnas\n",
    "scaler = MinMaxScaler()\n",
    "datos_norm=scaler.fit_transform(np.array(datos.iloc[:,np.r_[7:19, 20:34, 35:47]]))#array que contiene las columnas escaladas 0-1\n",
    "datos_norm.shape"
   ]
  },
  {
   "cell_type": "markdown",
   "id": "1a041a65-95c8-4267-8486-418e1e67e5a7",
   "metadata": {},
   "source": [
    "Se pasan a float32 en vez de float64 para reducir almacenamiento"
   ]
  },
  {
   "cell_type": "code",
   "execution_count": 14,
   "id": "070994ac-1269-4ade-a82c-b5288c2f5aff",
   "metadata": {},
   "outputs": [],
   "source": [
    "datos_norm = datos_norm.astype('float32')"
   ]
  },
  {
   "cell_type": "code",
   "execution_count": 15,
   "id": "91ecdb8e-8f2d-4356-9de7-045320df5a33",
   "metadata": {},
   "outputs": [
    {
     "data": {
      "text/plain": [
       "dtype('float32')"
      ]
     },
     "execution_count": 15,
     "metadata": {},
     "output_type": "execute_result"
    }
   ],
   "source": [
    "datos_norm.dtype"
   ]
  },
  {
   "cell_type": "markdown",
   "id": "c801e5e3-295f-4917-95d8-40883569770d",
   "metadata": {},
   "source": [
    "Se añade una columna de 1's para hacer la normalización extendida"
   ]
  },
  {
   "cell_type": "code",
   "execution_count": 16,
   "id": "ef14030d-b5d8-4afd-9ac3-632ff0990542",
   "metadata": {},
   "outputs": [],
   "source": [
    "datos_norm=normalize(np.append(datos_norm,np.ones([len(datos_norm),1]),1))"
   ]
  },
  {
   "cell_type": "code",
   "execution_count": 17,
   "id": "aa681a8b-252d-437e-a9f3-7dd6d536650f",
   "metadata": {},
   "outputs": [],
   "source": [
    "datos.drop(datos.columns[:47], inplace=True, axis=1)"
   ]
  },
  {
   "cell_type": "code",
   "execution_count": 20,
   "id": "810d7ac4-9d75-4111-a6ca-ea65dcb47978",
   "metadata": {},
   "outputs": [
    {
     "data": {
      "text/plain": [
       "(1562910, 1)"
      ]
     },
     "execution_count": 20,
     "metadata": {},
     "output_type": "execute_result"
    }
   ],
   "source": [
    "datos.shape"
   ]
  },
  {
   "cell_type": "code",
   "execution_count": 21,
   "id": "80b868f8-779f-4f04-9db7-5ccb9bf752b8",
   "metadata": {},
   "outputs": [],
   "source": [
    "datos_save = pd.DataFrame(datos_norm)\n",
    "datos_save.columns=['BUV395-A___CD45RA', 'BUV737-A___CD56', 'BUV805-A___CD8',\n",
    "        'BV421-A___CCR7', 'Super Bright 436-A___CD123', 'eFluor 450-A___CD11c',\n",
    "        'BV510-A___CD3', 'Pacific Orange-A___CD20', 'BV570-A___IgM',\n",
    "        'BV650-A___CD28', 'BV785-A___CD103', 'FITC-A___IgA',\n",
    "        'PerCP-eFluor 710-A___TCRgd', 'cFluor YG584-A___CD4',\n",
    "        'PE-Cy7-A___CXCR3', 'APC-Fire 810-A___CD38', 'PE-Fire 810-A___HLA-DR',\n",
    "        'BV605-A___IgG', 'APC-R700-A___CD127', 'APC-H7-A___CD27',\n",
    "        'PE-Alexa Fluor 610-A___CD24', 'PE-Alexa Fluor 700-A___CD25',\n",
    "        'BB515-A___CD141', 'BV480-A___IgD', 'BV750-A___CXCR5',\n",
    "        'PE-Cy5-A___CD95(Fas)',\n",
    "        'PerCP-Cy5.5-A___CD2', 'Alexa Fluor 647-A___CD1c',\n",
    "        'Spark Blue 550-A___CD14', 'BUV661-A___VISTA', 'Spark NIR 685-A___CD19',\n",
    "        'BUV496-A___CD16', 'BUV563-A___CCR5', 'BUV615-A___NKG2d',\n",
    "        'BV711-A___CCR6', 'PE-A___NKG2c', 'PE-Dazzle594-A___NKp30',\n",
    "        'APC-A___NKG2a', 'One']\n",
    "datos_save['OmiqFilter']=datos['OmiqFilter']\n",
    "del datos"
   ]
  },
  {
   "cell_type": "code",
   "execution_count": 22,
   "id": "b9afaee8-4203-4c42-b9f1-df5116cae92b",
   "metadata": {
    "scrolled": true
   },
   "outputs": [
    {
     "data": {
      "text/plain": [
       "BUV395-A___CD45RA              float64\n",
       "BUV737-A___CD56                float64\n",
       "BUV805-A___CD8                 float64\n",
       "BV421-A___CCR7                 float64\n",
       "Super Bright 436-A___CD123     float64\n",
       "eFluor 450-A___CD11c           float64\n",
       "BV510-A___CD3                  float64\n",
       "Pacific Orange-A___CD20        float64\n",
       "BV570-A___IgM                  float64\n",
       "BV650-A___CD28                 float64\n",
       "BV785-A___CD103                float64\n",
       "FITC-A___IgA                   float64\n",
       "PerCP-eFluor 710-A___TCRgd     float64\n",
       "cFluor YG584-A___CD4           float64\n",
       "PE-Cy7-A___CXCR3               float64\n",
       "APC-Fire 810-A___CD38          float64\n",
       "PE-Fire 810-A___HLA-DR         float64\n",
       "BV605-A___IgG                  float64\n",
       "APC-R700-A___CD127             float64\n",
       "APC-H7-A___CD27                float64\n",
       "PE-Alexa Fluor 610-A___CD24    float64\n",
       "PE-Alexa Fluor 700-A___CD25    float64\n",
       "BB515-A___CD141                float64\n",
       "BV480-A___IgD                  float64\n",
       "BV750-A___CXCR5                float64\n",
       "PE-Cy5-A___CD95(Fas)           float64\n",
       "PerCP-Cy5.5-A___CD2            float64\n",
       "Alexa Fluor 647-A___CD1c       float64\n",
       "Spark Blue 550-A___CD14        float64\n",
       "BUV661-A___VISTA               float64\n",
       "Spark NIR 685-A___CD19         float64\n",
       "BUV496-A___CD16                float64\n",
       "BUV563-A___CCR5                float64\n",
       "BUV615-A___NKG2d               float64\n",
       "BV711-A___CCR6                 float64\n",
       "PE-A___NKG2c                   float64\n",
       "PE-Dazzle594-A___NKp30         float64\n",
       "APC-A___NKG2a                  float64\n",
       "One                            float64\n",
       "OmiqFilter                      object\n",
       "dtype: object"
      ]
     },
     "execution_count": 22,
     "metadata": {},
     "output_type": "execute_result"
    }
   ],
   "source": [
    "datos_save.dtypes"
   ]
  },
  {
   "cell_type": "code",
   "execution_count": 23,
   "id": "b658cb9b-0809-4cf3-b396-ac78ea4f3546",
   "metadata": {},
   "outputs": [],
   "source": [
    "datos_save[\"OmiqFilter\"] = datos_save[\"OmiqFilter\"].astype(\"category\")"
   ]
  },
  {
   "cell_type": "code",
   "execution_count": 24,
   "id": "ef3f55eb-ef2f-4f28-b131-02e63c4f93c1",
   "metadata": {},
   "outputs": [],
   "source": [
    "for col in datos_save.columns[:38]:\n",
    "    datos_save[col] = datos_save[col].astype(\"float32\")"
   ]
  },
  {
   "cell_type": "code",
   "execution_count": 25,
   "id": "a38d50a4-26ec-4263-90e9-368aad40e7ac",
   "metadata": {
    "scrolled": true
   },
   "outputs": [
    {
     "data": {
      "text/plain": [
       "BUV395-A___CD45RA               float32\n",
       "BUV737-A___CD56                 float32\n",
       "BUV805-A___CD8                  float32\n",
       "BV421-A___CCR7                  float32\n",
       "Super Bright 436-A___CD123      float32\n",
       "eFluor 450-A___CD11c            float32\n",
       "BV510-A___CD3                   float32\n",
       "Pacific Orange-A___CD20         float32\n",
       "BV570-A___IgM                   float32\n",
       "BV650-A___CD28                  float32\n",
       "BV785-A___CD103                 float32\n",
       "FITC-A___IgA                    float32\n",
       "PerCP-eFluor 710-A___TCRgd      float32\n",
       "cFluor YG584-A___CD4            float32\n",
       "PE-Cy7-A___CXCR3                float32\n",
       "APC-Fire 810-A___CD38           float32\n",
       "PE-Fire 810-A___HLA-DR          float32\n",
       "BV605-A___IgG                   float32\n",
       "APC-R700-A___CD127              float32\n",
       "APC-H7-A___CD27                 float32\n",
       "PE-Alexa Fluor 610-A___CD24     float32\n",
       "PE-Alexa Fluor 700-A___CD25     float32\n",
       "BB515-A___CD141                 float32\n",
       "BV480-A___IgD                   float32\n",
       "BV750-A___CXCR5                 float32\n",
       "PE-Cy5-A___CD95(Fas)            float32\n",
       "PerCP-Cy5.5-A___CD2             float32\n",
       "Alexa Fluor 647-A___CD1c        float32\n",
       "Spark Blue 550-A___CD14         float32\n",
       "BUV661-A___VISTA                float32\n",
       "Spark NIR 685-A___CD19          float32\n",
       "BUV496-A___CD16                 float32\n",
       "BUV563-A___CCR5                 float32\n",
       "BUV615-A___NKG2d                float32\n",
       "BV711-A___CCR6                  float32\n",
       "PE-A___NKG2c                    float32\n",
       "PE-Dazzle594-A___NKp30          float32\n",
       "APC-A___NKG2a                   float32\n",
       "One                             float64\n",
       "OmiqFilter                     category\n",
       "dtype: object"
      ]
     },
     "execution_count": 25,
     "metadata": {},
     "output_type": "execute_result"
    }
   ],
   "source": [
    "datos_save.dtypes"
   ]
  },
  {
   "cell_type": "code",
   "execution_count": 26,
   "id": "a0616413-ee57-41c6-8f28-928e71be70ec",
   "metadata": {},
   "outputs": [],
   "source": [
    "del datos_norm"
   ]
  },
  {
   "cell_type": "code",
   "execution_count": 27,
   "id": "dc53e0ff-6092-406f-979c-6a93e51c98d7",
   "metadata": {},
   "outputs": [
    {
     "data": {
      "text/plain": [
       "(1562910, 40)"
      ]
     },
     "execution_count": 27,
     "metadata": {},
     "output_type": "execute_result"
    }
   ],
   "source": [
    "datos_save.shape"
   ]
  },
  {
   "cell_type": "code",
   "execution_count": 28,
   "id": "038289db-9495-4f7d-b36d-7cc356f4ef9c",
   "metadata": {},
   "outputs": [
    {
     "name": "stderr",
     "output_type": "stream",
     "text": [
      "Writing CSV: 100%|██████████████████████████████| 16/16 [01:02<00:00,  3.90s/it]\n"
     ]
    }
   ],
   "source": [
    "#Chunk size\n",
    "chunksize = 100000\n",
    "\n",
    "with open(\"datos/datos_ibgmUsados.csv\", \"w\", encoding=\"utf-8\", newline=\"\") as f:\n",
    "    datos_save.iloc[:0].to_csv(f, index=False)\n",
    "\n",
    "    for chunk in tqdm(range(0, len(datos_save), chunksize), desc=\"Writing CSV\"):\n",
    "        datos_save.iloc[chunk : chunk + chunksize].to_csv(f, index=False, header=False, mode=\"a\")"
   ]
  }
 ],
 "metadata": {
  "kernelspec": {
   "display_name": "Python 3 (ipykernel)",
   "language": "python",
   "name": "python3"
  },
  "language_info": {
   "codemirror_mode": {
    "name": "ipython",
    "version": 3
   },
   "file_extension": ".py",
   "mimetype": "text/x-python",
   "name": "python",
   "nbconvert_exporter": "python",
   "pygments_lexer": "ipython3",
   "version": "3.13.2"
  }
 },
 "nbformat": 4,
 "nbformat_minor": 5
}
