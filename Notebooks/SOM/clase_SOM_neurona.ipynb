{
 "cells": [
  {
   "cell_type": "markdown",
   "id": "da813e46-7678-424c-a962-a8da44dcb961",
   "metadata": {},
   "source": [
    "### Clase Neurona"
   ]
  },
  {
   "cell_type": "code",
   "execution_count": 4,
   "id": "3c8fc9d7-2f2e-44eb-a6fe-7171a38694a3",
   "metadata": {
    "tags": []
   },
   "outputs": [],
   "source": [
    "class neurona(object):\n",
    "    def __init__(self, f=0, c=0, dim=0):\n",
    "        self.c = c\n",
    "        self.f = f\n",
    "        self.dim = dim\n",
    "        self.w = normalize(np.random.rand(self.dim).reshape(1,-1))\n",
    "        self.output = -10.0\n",
    "        self.label = -1\n",
    "            \n",
    "    def predict(self, input):\n",
    "        self.output = input @ self.w.T\n",
    "        return self.output\n",
    "    \n",
    "    def fit(self, input, alfa=1):\n",
    "        self.w = normalize(self.w + (alfa*input))\n",
    "            \n",
    "    def labeling(self, inputs, targets):\n",
    "        Y = inputs @ self.w.T\n",
    "        self.label = targets[np.argmax(Y)]"
   ]
  },
  {
   "cell_type": "markdown",
   "id": "90eb9a14-dea4-404c-910a-2b339ce20296",
   "metadata": {},
   "source": [
    "### Clase SOM"
   ]
  },
  {
   "cell_type": "code",
   "execution_count": 79,
   "id": "684f34ca-605f-4f2a-870d-9d4660e6e8a3",
   "metadata": {},
   "outputs": [],
   "source": [
    "from tqdm import tqdm\n",
    "from sklearn.cluster import AgglomerativeClustering\n",
    "class som():\n",
    "    \n",
    "    def __init__(self, filas=1, columnas=1, dim=1, init_radious=0, init_alfa=1):\n",
    "        self.lista_neuronas = []\n",
    "        self.filas = filas\n",
    "        self.columnas = columnas\n",
    "        self.dim = dim\n",
    "        self.labels = []\n",
    "        self.radious = init_radious\n",
    "        self.init_alfa = init_alfa\n",
    "        self.t = 0\n",
    "        # Considera que un mapa rectangular es una lista de objetos \"neurona\", que viene localizado por sus atributos \"fila\" y \"columna\"\n",
    "        for fila in range(self.filas):\n",
    "            for columna in range(self.columnas):\n",
    "                self.lista_neuronas.append(neurona(f=fila, c=columna, dim=dim))\n",
    "                \n",
    "    def fit(self, inputs, max_epochs=1):\n",
    "        #Recibe las entradas, el radio inicial, el factor de apendizaje inicial, el máximo de épocas y devuelve los pesos ajustados\n",
    "        P = inputs.shape[0]\n",
    "        for epoch in range(max_epochs):\n",
    "            for x in tqdm(inputs, desc=\"Epoch:\"+str(epoch)+\"   R:\"+str(self.radious)+\"     \" ,bar_format='[{elapsed}<{remaining}] {n_fmt}/{total_fmt} | {l_bar}{bar} {rate_fmt}{postfix}'):\n",
    "                alfa = self.init_alfa/(1.0 + float(self.t/P))\n",
    "                i_gana, y_gana = -1, float('-inf')\n",
    "                for i in range(self.filas*self.columnas):\n",
    "                    y_predict = self.lista_neuronas[i].predict(x.reshape(1,-1))\n",
    "                    if y_predict > y_gana:\n",
    "                        y_gana = y_predict\n",
    "                        i_gana = i\n",
    "                f_gana = int(i_gana / self.columnas)\n",
    "                c_gana = i_gana % self.columnas\n",
    "                \n",
    "                # Conjunto de vecinas para un radio\n",
    "                for f in range(f_gana - self.radious, f_gana + self.radious+1):\n",
    "                    if f < 0:\n",
    "                        row = self.filas + f\n",
    "                    else:\n",
    "                        if f > self.filas-1:\n",
    "                            row = f % self.filas\n",
    "                        else:\n",
    "                            row = f\n",
    "\n",
    "                    for c in range(c_gana - self.radious, c_gana + self.radious+1):\n",
    "                        if c < 0:\n",
    "                            column = self.columnas + c \n",
    "                        else:\n",
    "                            if c > self.columnas-1:\n",
    "                                column = c % self.columnas\n",
    "                            else:\n",
    "                                column = c\n",
    "                        self.lista_neuronas[(row*self.columnas) + column].fit(x.reshape(1,-1), alfa)\n",
    "                self.t += 1\n",
    "            if self.radious > 0:\n",
    "                self.radious -= 1\n",
    "    def clustering_agglomerative(self, nclus):\n",
    "        pesos=np.vstack([n.w.flatten() for n in self.lista_neuronas])\n",
    "        modelo = AgglomerativeClustering(n_clusters=60)\n",
    "        etiquetas_clusters = modelo.fit_predict(pesos)\n",
    "        return etiquetas_clusters\n",
    "    def neuron_labeling(self,nclus):\n",
    "        etiquetas_clusters=self.clustering_agglomerative(nclus)\n",
    "        # recorre la lista de neuronas y la etiqueta en base a los metaclsuers        \n",
    "        for i in range(self.filas*self.columnas):\n",
    "            self.lista_neuronas[i].label=etiquetas_clusters[i]\n",
    " \n",
    "    def predict(self, inputs):\n",
    "        # recorre la lista de neuronas y calcula la salida de un conjunto de muestras\n",
    "        output_list = []\n",
    "        for x in tqdm(inputs):\n",
    "            for i in range(self.filas*self.columnas):\n",
    "                output_list.append(self.lista_neuronas[i].predict(x.reshape(1,-1)))\n",
    "        return np.array(output_list).reshape(inputs.shape[0], -1)    \n",
    "    \n",
    "    def label_predict(self, inputs):\n",
    "        return np.array([self.lista_neuronas[i].label for i in np.argmax(self.predict(inputs),axis=1)])          "
   ]
  }
 ],
 "metadata": {
  "kernelspec": {
   "display_name": "Python 3 (ipykernel)",
   "language": "python",
   "name": "python3"
  },
  "language_info": {
   "codemirror_mode": {
    "name": "ipython",
    "version": 3
   },
   "file_extension": ".py",
   "mimetype": "text/x-python",
   "name": "python",
   "nbconvert_exporter": "python",
   "pygments_lexer": "ipython3",
   "version": "3.13.2"
  }
 },
 "nbformat": 4,
 "nbformat_minor": 5
}
